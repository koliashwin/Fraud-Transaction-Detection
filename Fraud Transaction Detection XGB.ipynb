{
 "cells": [
  {
   "cell_type": "code",
   "execution_count": 45,
   "id": "688b4ff7",
   "metadata": {
    "scrolled": true
   },
   "outputs": [],
   "source": [
    "# import all required libraries here\n",
    "import pandas as pd\n",
    "import numpy as np\n",
    "import seaborn as sns\n",
    "import matplotlib.pyplot as plt\n",
    "import xgboost as xgb\n",
    "from sklearn.ensemble import RandomForestClassifier\n",
    "from sklearn.model_selection import train_test_split\n",
    "from sklearn import preprocessing\n",
    "from sklearn.metrics import accuracy_score, confusion_matrix, f1_score, classification_report\n",
    "from tqdm import tqdm"
   ]
  },
  {
   "cell_type": "code",
   "execution_count": 2,
   "id": "80de6478",
   "metadata": {},
   "outputs": [
    {
     "data": {
      "text/html": [
       "<div>\n",
       "<style scoped>\n",
       "    .dataframe tbody tr th:only-of-type {\n",
       "        vertical-align: middle;\n",
       "    }\n",
       "\n",
       "    .dataframe tbody tr th {\n",
       "        vertical-align: top;\n",
       "    }\n",
       "\n",
       "    .dataframe thead th {\n",
       "        text-align: right;\n",
       "    }\n",
       "</style>\n",
       "<table border=\"1\" class=\"dataframe\">\n",
       "  <thead>\n",
       "    <tr style=\"text-align: right;\">\n",
       "      <th></th>\n",
       "      <th>step</th>\n",
       "      <th>type</th>\n",
       "      <th>amount</th>\n",
       "      <th>nameOrig</th>\n",
       "      <th>oldbalanceOrg</th>\n",
       "      <th>newbalanceOrig</th>\n",
       "      <th>nameDest</th>\n",
       "      <th>oldbalanceDest</th>\n",
       "      <th>newbalanceDest</th>\n",
       "      <th>isFraud</th>\n",
       "      <th>isFlaggedFraud</th>\n",
       "    </tr>\n",
       "  </thead>\n",
       "  <tbody>\n",
       "    <tr>\n",
       "      <th>0</th>\n",
       "      <td>1</td>\n",
       "      <td>PAYMENT</td>\n",
       "      <td>9839.64</td>\n",
       "      <td>C1231006815</td>\n",
       "      <td>170136.0</td>\n",
       "      <td>160296.36</td>\n",
       "      <td>M1979787155</td>\n",
       "      <td>0.0</td>\n",
       "      <td>0.0</td>\n",
       "      <td>0</td>\n",
       "      <td>0</td>\n",
       "    </tr>\n",
       "    <tr>\n",
       "      <th>1</th>\n",
       "      <td>1</td>\n",
       "      <td>PAYMENT</td>\n",
       "      <td>1864.28</td>\n",
       "      <td>C1666544295</td>\n",
       "      <td>21249.0</td>\n",
       "      <td>19384.72</td>\n",
       "      <td>M2044282225</td>\n",
       "      <td>0.0</td>\n",
       "      <td>0.0</td>\n",
       "      <td>0</td>\n",
       "      <td>0</td>\n",
       "    </tr>\n",
       "    <tr>\n",
       "      <th>2</th>\n",
       "      <td>1</td>\n",
       "      <td>TRANSFER</td>\n",
       "      <td>181.00</td>\n",
       "      <td>C1305486145</td>\n",
       "      <td>181.0</td>\n",
       "      <td>0.00</td>\n",
       "      <td>C553264065</td>\n",
       "      <td>0.0</td>\n",
       "      <td>0.0</td>\n",
       "      <td>1</td>\n",
       "      <td>0</td>\n",
       "    </tr>\n",
       "    <tr>\n",
       "      <th>3</th>\n",
       "      <td>1</td>\n",
       "      <td>CASH_OUT</td>\n",
       "      <td>181.00</td>\n",
       "      <td>C840083671</td>\n",
       "      <td>181.0</td>\n",
       "      <td>0.00</td>\n",
       "      <td>C38997010</td>\n",
       "      <td>21182.0</td>\n",
       "      <td>0.0</td>\n",
       "      <td>1</td>\n",
       "      <td>0</td>\n",
       "    </tr>\n",
       "    <tr>\n",
       "      <th>4</th>\n",
       "      <td>1</td>\n",
       "      <td>PAYMENT</td>\n",
       "      <td>11668.14</td>\n",
       "      <td>C2048537720</td>\n",
       "      <td>41554.0</td>\n",
       "      <td>29885.86</td>\n",
       "      <td>M1230701703</td>\n",
       "      <td>0.0</td>\n",
       "      <td>0.0</td>\n",
       "      <td>0</td>\n",
       "      <td>0</td>\n",
       "    </tr>\n",
       "  </tbody>\n",
       "</table>\n",
       "</div>"
      ],
      "text/plain": [
       "   step      type    amount     nameOrig  oldbalanceOrg  newbalanceOrig  \\\n",
       "0     1   PAYMENT   9839.64  C1231006815       170136.0       160296.36   \n",
       "1     1   PAYMENT   1864.28  C1666544295        21249.0        19384.72   \n",
       "2     1  TRANSFER    181.00  C1305486145          181.0            0.00   \n",
       "3     1  CASH_OUT    181.00   C840083671          181.0            0.00   \n",
       "4     1   PAYMENT  11668.14  C2048537720        41554.0        29885.86   \n",
       "\n",
       "      nameDest  oldbalanceDest  newbalanceDest  isFraud  isFlaggedFraud  \n",
       "0  M1979787155             0.0             0.0        0               0  \n",
       "1  M2044282225             0.0             0.0        0               0  \n",
       "2   C553264065             0.0             0.0        1               0  \n",
       "3    C38997010         21182.0             0.0        1               0  \n",
       "4  M1230701703             0.0             0.0        0               0  "
      ]
     },
     "execution_count": 2,
     "metadata": {},
     "output_type": "execute_result"
    }
   ],
   "source": [
    "# read the dataset\n",
    "df = pd.read_csv(\"D:/Internshala/Fraud.csv\")\n",
    "df.head()"
   ]
  },
  {
   "cell_type": "code",
   "execution_count": 3,
   "id": "54a25541",
   "metadata": {
    "scrolled": true
   },
   "outputs": [
    {
     "data": {
      "text/html": [
       "<div>\n",
       "<style scoped>\n",
       "    .dataframe tbody tr th:only-of-type {\n",
       "        vertical-align: middle;\n",
       "    }\n",
       "\n",
       "    .dataframe tbody tr th {\n",
       "        vertical-align: top;\n",
       "    }\n",
       "\n",
       "    .dataframe thead th {\n",
       "        text-align: right;\n",
       "    }\n",
       "</style>\n",
       "<table border=\"1\" class=\"dataframe\">\n",
       "  <thead>\n",
       "    <tr style=\"text-align: right;\">\n",
       "      <th></th>\n",
       "      <th>step</th>\n",
       "      <th>type</th>\n",
       "      <th>amount</th>\n",
       "      <th>nameOrig</th>\n",
       "      <th>oldbalanceOrg</th>\n",
       "      <th>newbalanceOrig</th>\n",
       "      <th>nameDest</th>\n",
       "      <th>oldbalanceDest</th>\n",
       "      <th>newbalanceDest</th>\n",
       "      <th>isFraud</th>\n",
       "      <th>isFlaggedFraud</th>\n",
       "    </tr>\n",
       "  </thead>\n",
       "  <tbody>\n",
       "    <tr>\n",
       "      <th>2112443</th>\n",
       "      <td>183</td>\n",
       "      <td>PAYMENT</td>\n",
       "      <td>9132.97</td>\n",
       "      <td>C2040799774</td>\n",
       "      <td>0.00</td>\n",
       "      <td>0.00</td>\n",
       "      <td>M1266227060</td>\n",
       "      <td>0.00</td>\n",
       "      <td>0.00</td>\n",
       "      <td>0</td>\n",
       "      <td>0</td>\n",
       "    </tr>\n",
       "    <tr>\n",
       "      <th>6067160</th>\n",
       "      <td>514</td>\n",
       "      <td>CASH_IN</td>\n",
       "      <td>253365.31</td>\n",
       "      <td>C1660873680</td>\n",
       "      <td>835618.42</td>\n",
       "      <td>1088983.73</td>\n",
       "      <td>C1997962630</td>\n",
       "      <td>3092564.25</td>\n",
       "      <td>2839198.94</td>\n",
       "      <td>0</td>\n",
       "      <td>0</td>\n",
       "    </tr>\n",
       "    <tr>\n",
       "      <th>477034</th>\n",
       "      <td>19</td>\n",
       "      <td>CASH_IN</td>\n",
       "      <td>34267.94</td>\n",
       "      <td>C1642651276</td>\n",
       "      <td>27386468.71</td>\n",
       "      <td>27420736.65</td>\n",
       "      <td>C46229814</td>\n",
       "      <td>11494608.08</td>\n",
       "      <td>11554024.90</td>\n",
       "      <td>0</td>\n",
       "      <td>0</td>\n",
       "    </tr>\n",
       "    <tr>\n",
       "      <th>831706</th>\n",
       "      <td>41</td>\n",
       "      <td>PAYMENT</td>\n",
       "      <td>4190.91</td>\n",
       "      <td>C942449710</td>\n",
       "      <td>0.00</td>\n",
       "      <td>0.00</td>\n",
       "      <td>M332368511</td>\n",
       "      <td>0.00</td>\n",
       "      <td>0.00</td>\n",
       "      <td>0</td>\n",
       "      <td>0</td>\n",
       "    </tr>\n",
       "    <tr>\n",
       "      <th>638547</th>\n",
       "      <td>35</td>\n",
       "      <td>PAYMENT</td>\n",
       "      <td>5605.66</td>\n",
       "      <td>C292436785</td>\n",
       "      <td>415520.37</td>\n",
       "      <td>409914.71</td>\n",
       "      <td>M717488346</td>\n",
       "      <td>0.00</td>\n",
       "      <td>0.00</td>\n",
       "      <td>0</td>\n",
       "      <td>0</td>\n",
       "    </tr>\n",
       "    <tr>\n",
       "      <th>1723738</th>\n",
       "      <td>160</td>\n",
       "      <td>CASH_IN</td>\n",
       "      <td>275179.19</td>\n",
       "      <td>C1922159750</td>\n",
       "      <td>5847047.30</td>\n",
       "      <td>6122226.49</td>\n",
       "      <td>C308019560</td>\n",
       "      <td>3137627.34</td>\n",
       "      <td>2862448.15</td>\n",
       "      <td>0</td>\n",
       "      <td>0</td>\n",
       "    </tr>\n",
       "    <tr>\n",
       "      <th>1455031</th>\n",
       "      <td>140</td>\n",
       "      <td>CASH_IN</td>\n",
       "      <td>89791.04</td>\n",
       "      <td>C440868228</td>\n",
       "      <td>3617502.58</td>\n",
       "      <td>3707293.62</td>\n",
       "      <td>C1809235929</td>\n",
       "      <td>535902.01</td>\n",
       "      <td>446110.97</td>\n",
       "      <td>0</td>\n",
       "      <td>0</td>\n",
       "    </tr>\n",
       "    <tr>\n",
       "      <th>4943758</th>\n",
       "      <td>350</td>\n",
       "      <td>CASH_OUT</td>\n",
       "      <td>17102.48</td>\n",
       "      <td>C200357758</td>\n",
       "      <td>0.00</td>\n",
       "      <td>0.00</td>\n",
       "      <td>C1615052771</td>\n",
       "      <td>318244.05</td>\n",
       "      <td>335346.53</td>\n",
       "      <td>0</td>\n",
       "      <td>0</td>\n",
       "    </tr>\n",
       "    <tr>\n",
       "      <th>1049829</th>\n",
       "      <td>95</td>\n",
       "      <td>CASH_OUT</td>\n",
       "      <td>325481.69</td>\n",
       "      <td>C33714430</td>\n",
       "      <td>0.00</td>\n",
       "      <td>0.00</td>\n",
       "      <td>C1596289722</td>\n",
       "      <td>4810201.61</td>\n",
       "      <td>5135683.30</td>\n",
       "      <td>0</td>\n",
       "      <td>0</td>\n",
       "    </tr>\n",
       "    <tr>\n",
       "      <th>3134172</th>\n",
       "      <td>236</td>\n",
       "      <td>PAYMENT</td>\n",
       "      <td>182.70</td>\n",
       "      <td>C741101479</td>\n",
       "      <td>0.00</td>\n",
       "      <td>0.00</td>\n",
       "      <td>M1998494265</td>\n",
       "      <td>0.00</td>\n",
       "      <td>0.00</td>\n",
       "      <td>0</td>\n",
       "      <td>0</td>\n",
       "    </tr>\n",
       "  </tbody>\n",
       "</table>\n",
       "</div>"
      ],
      "text/plain": [
       "         step      type     amount     nameOrig  oldbalanceOrg  \\\n",
       "2112443   183   PAYMENT    9132.97  C2040799774           0.00   \n",
       "6067160   514   CASH_IN  253365.31  C1660873680      835618.42   \n",
       "477034     19   CASH_IN   34267.94  C1642651276    27386468.71   \n",
       "831706     41   PAYMENT    4190.91   C942449710           0.00   \n",
       "638547     35   PAYMENT    5605.66   C292436785      415520.37   \n",
       "1723738   160   CASH_IN  275179.19  C1922159750     5847047.30   \n",
       "1455031   140   CASH_IN   89791.04   C440868228     3617502.58   \n",
       "4943758   350  CASH_OUT   17102.48   C200357758           0.00   \n",
       "1049829    95  CASH_OUT  325481.69    C33714430           0.00   \n",
       "3134172   236   PAYMENT     182.70   C741101479           0.00   \n",
       "\n",
       "         newbalanceOrig     nameDest  oldbalanceDest  newbalanceDest  isFraud  \\\n",
       "2112443            0.00  M1266227060            0.00            0.00        0   \n",
       "6067160      1088983.73  C1997962630      3092564.25      2839198.94        0   \n",
       "477034      27420736.65    C46229814     11494608.08     11554024.90        0   \n",
       "831706             0.00   M332368511            0.00            0.00        0   \n",
       "638547        409914.71   M717488346            0.00            0.00        0   \n",
       "1723738      6122226.49   C308019560      3137627.34      2862448.15        0   \n",
       "1455031      3707293.62  C1809235929       535902.01       446110.97        0   \n",
       "4943758            0.00  C1615052771       318244.05       335346.53        0   \n",
       "1049829            0.00  C1596289722      4810201.61      5135683.30        0   \n",
       "3134172            0.00  M1998494265            0.00            0.00        0   \n",
       "\n",
       "         isFlaggedFraud  \n",
       "2112443               0  \n",
       "6067160               0  \n",
       "477034                0  \n",
       "831706                0  \n",
       "638547                0  \n",
       "1723738               0  \n",
       "1455031               0  \n",
       "4943758               0  \n",
       "1049829               0  \n",
       "3134172               0  "
      ]
     },
     "execution_count": 3,
     "metadata": {},
     "output_type": "execute_result"
    }
   ],
   "source": [
    "df.sample(10)"
   ]
  },
  {
   "cell_type": "code",
   "execution_count": 4,
   "id": "d704a5cc",
   "metadata": {},
   "outputs": [
    {
     "name": "stdout",
     "output_type": "stream",
     "text": [
      "<class 'pandas.core.frame.DataFrame'>\n",
      "RangeIndex: 6362620 entries, 0 to 6362619\n",
      "Data columns (total 11 columns):\n",
      " #   Column          Dtype  \n",
      "---  ------          -----  \n",
      " 0   step            int64  \n",
      " 1   type            object \n",
      " 2   amount          float64\n",
      " 3   nameOrig        object \n",
      " 4   oldbalanceOrg   float64\n",
      " 5   newbalanceOrig  float64\n",
      " 6   nameDest        object \n",
      " 7   oldbalanceDest  float64\n",
      " 8   newbalanceDest  float64\n",
      " 9   isFraud         int64  \n",
      " 10  isFlaggedFraud  int64  \n",
      "dtypes: float64(5), int64(3), object(3)\n",
      "memory usage: 534.0+ MB\n"
     ]
    }
   ],
   "source": [
    "df.info()\n",
    "\n",
    "# as we can see the columns [type, nameOrig, nameDest] have object datatype so will have to change that while training the model"
   ]
  },
  {
   "cell_type": "code",
   "execution_count": 5,
   "id": "92b639b3",
   "metadata": {},
   "outputs": [
    {
     "data": {
      "text/html": [
       "<div>\n",
       "<style scoped>\n",
       "    .dataframe tbody tr th:only-of-type {\n",
       "        vertical-align: middle;\n",
       "    }\n",
       "\n",
       "    .dataframe tbody tr th {\n",
       "        vertical-align: top;\n",
       "    }\n",
       "\n",
       "    .dataframe thead th {\n",
       "        text-align: right;\n",
       "    }\n",
       "</style>\n",
       "<table border=\"1\" class=\"dataframe\">\n",
       "  <thead>\n",
       "    <tr style=\"text-align: right;\">\n",
       "      <th></th>\n",
       "      <th>step</th>\n",
       "      <th>amount</th>\n",
       "      <th>oldbalanceOrg</th>\n",
       "      <th>newbalanceOrig</th>\n",
       "      <th>oldbalanceDest</th>\n",
       "      <th>newbalanceDest</th>\n",
       "      <th>isFraud</th>\n",
       "      <th>isFlaggedFraud</th>\n",
       "    </tr>\n",
       "  </thead>\n",
       "  <tbody>\n",
       "    <tr>\n",
       "      <th>count</th>\n",
       "      <td>6.362620e+06</td>\n",
       "      <td>6.362620e+06</td>\n",
       "      <td>6.362620e+06</td>\n",
       "      <td>6.362620e+06</td>\n",
       "      <td>6.362620e+06</td>\n",
       "      <td>6.362620e+06</td>\n",
       "      <td>6.362620e+06</td>\n",
       "      <td>6.362620e+06</td>\n",
       "    </tr>\n",
       "    <tr>\n",
       "      <th>mean</th>\n",
       "      <td>2.433972e+02</td>\n",
       "      <td>1.798619e+05</td>\n",
       "      <td>8.338831e+05</td>\n",
       "      <td>8.551137e+05</td>\n",
       "      <td>1.100702e+06</td>\n",
       "      <td>1.224996e+06</td>\n",
       "      <td>1.290820e-03</td>\n",
       "      <td>2.514687e-06</td>\n",
       "    </tr>\n",
       "    <tr>\n",
       "      <th>std</th>\n",
       "      <td>1.423320e+02</td>\n",
       "      <td>6.038582e+05</td>\n",
       "      <td>2.888243e+06</td>\n",
       "      <td>2.924049e+06</td>\n",
       "      <td>3.399180e+06</td>\n",
       "      <td>3.674129e+06</td>\n",
       "      <td>3.590480e-02</td>\n",
       "      <td>1.585775e-03</td>\n",
       "    </tr>\n",
       "    <tr>\n",
       "      <th>min</th>\n",
       "      <td>1.000000e+00</td>\n",
       "      <td>0.000000e+00</td>\n",
       "      <td>0.000000e+00</td>\n",
       "      <td>0.000000e+00</td>\n",
       "      <td>0.000000e+00</td>\n",
       "      <td>0.000000e+00</td>\n",
       "      <td>0.000000e+00</td>\n",
       "      <td>0.000000e+00</td>\n",
       "    </tr>\n",
       "    <tr>\n",
       "      <th>25%</th>\n",
       "      <td>1.560000e+02</td>\n",
       "      <td>1.338957e+04</td>\n",
       "      <td>0.000000e+00</td>\n",
       "      <td>0.000000e+00</td>\n",
       "      <td>0.000000e+00</td>\n",
       "      <td>0.000000e+00</td>\n",
       "      <td>0.000000e+00</td>\n",
       "      <td>0.000000e+00</td>\n",
       "    </tr>\n",
       "    <tr>\n",
       "      <th>50%</th>\n",
       "      <td>2.390000e+02</td>\n",
       "      <td>7.487194e+04</td>\n",
       "      <td>1.420800e+04</td>\n",
       "      <td>0.000000e+00</td>\n",
       "      <td>1.327057e+05</td>\n",
       "      <td>2.146614e+05</td>\n",
       "      <td>0.000000e+00</td>\n",
       "      <td>0.000000e+00</td>\n",
       "    </tr>\n",
       "    <tr>\n",
       "      <th>75%</th>\n",
       "      <td>3.350000e+02</td>\n",
       "      <td>2.087215e+05</td>\n",
       "      <td>1.073152e+05</td>\n",
       "      <td>1.442584e+05</td>\n",
       "      <td>9.430367e+05</td>\n",
       "      <td>1.111909e+06</td>\n",
       "      <td>0.000000e+00</td>\n",
       "      <td>0.000000e+00</td>\n",
       "    </tr>\n",
       "    <tr>\n",
       "      <th>max</th>\n",
       "      <td>7.430000e+02</td>\n",
       "      <td>9.244552e+07</td>\n",
       "      <td>5.958504e+07</td>\n",
       "      <td>4.958504e+07</td>\n",
       "      <td>3.560159e+08</td>\n",
       "      <td>3.561793e+08</td>\n",
       "      <td>1.000000e+00</td>\n",
       "      <td>1.000000e+00</td>\n",
       "    </tr>\n",
       "  </tbody>\n",
       "</table>\n",
       "</div>"
      ],
      "text/plain": [
       "               step        amount  oldbalanceOrg  newbalanceOrig  \\\n",
       "count  6.362620e+06  6.362620e+06   6.362620e+06    6.362620e+06   \n",
       "mean   2.433972e+02  1.798619e+05   8.338831e+05    8.551137e+05   \n",
       "std    1.423320e+02  6.038582e+05   2.888243e+06    2.924049e+06   \n",
       "min    1.000000e+00  0.000000e+00   0.000000e+00    0.000000e+00   \n",
       "25%    1.560000e+02  1.338957e+04   0.000000e+00    0.000000e+00   \n",
       "50%    2.390000e+02  7.487194e+04   1.420800e+04    0.000000e+00   \n",
       "75%    3.350000e+02  2.087215e+05   1.073152e+05    1.442584e+05   \n",
       "max    7.430000e+02  9.244552e+07   5.958504e+07    4.958504e+07   \n",
       "\n",
       "       oldbalanceDest  newbalanceDest       isFraud  isFlaggedFraud  \n",
       "count    6.362620e+06    6.362620e+06  6.362620e+06    6.362620e+06  \n",
       "mean     1.100702e+06    1.224996e+06  1.290820e-03    2.514687e-06  \n",
       "std      3.399180e+06    3.674129e+06  3.590480e-02    1.585775e-03  \n",
       "min      0.000000e+00    0.000000e+00  0.000000e+00    0.000000e+00  \n",
       "25%      0.000000e+00    0.000000e+00  0.000000e+00    0.000000e+00  \n",
       "50%      1.327057e+05    2.146614e+05  0.000000e+00    0.000000e+00  \n",
       "75%      9.430367e+05    1.111909e+06  0.000000e+00    0.000000e+00  \n",
       "max      3.560159e+08    3.561793e+08  1.000000e+00    1.000000e+00  "
      ]
     },
     "execution_count": 5,
     "metadata": {},
     "output_type": "execute_result"
    }
   ],
   "source": [
    "df.describe()"
   ]
  },
  {
   "cell_type": "code",
   "execution_count": 6,
   "id": "2ed1a24b",
   "metadata": {},
   "outputs": [
    {
     "data": {
      "text/plain": [
       "step              0\n",
       "type              0\n",
       "amount            0\n",
       "nameOrig          0\n",
       "oldbalanceOrg     0\n",
       "newbalanceOrig    0\n",
       "nameDest          0\n",
       "oldbalanceDest    0\n",
       "newbalanceDest    0\n",
       "isFraud           0\n",
       "isFlaggedFraud    0\n",
       "dtype: int64"
      ]
     },
     "execution_count": 6,
     "metadata": {},
     "output_type": "execute_result"
    }
   ],
   "source": [
    "# to fine how many null values are there in each column\n",
    "df.isnull().sum()"
   ]
  },
  {
   "cell_type": "code",
   "execution_count": 7,
   "id": "c1533a02",
   "metadata": {},
   "outputs": [
    {
     "data": {
      "text/plain": [
       "step                  743\n",
       "type                    5\n",
       "amount            5316900\n",
       "nameOrig          6353307\n",
       "oldbalanceOrg     1845844\n",
       "newbalanceOrig    2682586\n",
       "nameDest          2722362\n",
       "oldbalanceDest    3614697\n",
       "newbalanceDest    3555499\n",
       "isFraud                 2\n",
       "isFlaggedFraud          2\n",
       "dtype: int64"
      ]
     },
     "execution_count": 7,
     "metadata": {},
     "output_type": "execute_result"
    }
   ],
   "source": [
    "# to fine how many unique values are there in each column\n",
    "df.nunique()"
   ]
  },
  {
   "cell_type": "code",
   "execution_count": 8,
   "id": "470e012f",
   "metadata": {},
   "outputs": [],
   "source": [
    "# df1 = df.sample(n=600000, random_state=0)\n"
   ]
  },
  {
   "cell_type": "code",
   "execution_count": 9,
   "id": "3d15fd08",
   "metadata": {
    "scrolled": true
   },
   "outputs": [
    {
     "data": {
      "text/plain": [
       "<AxesSubplot:xlabel='isFraud', ylabel='isFlaggedFraud'>"
      ]
     },
     "execution_count": 9,
     "metadata": {},
     "output_type": "execute_result"
    },
    {
     "data": {
      "image/png": "[encoded data removed]",
      "text/plain": [
       "<Figure size 1440x2160 with 8 Axes>"
      ]
     },
     "metadata": {
      "needs_background": "light"
     },
     "output_type": "display_data"
    }
   ],
   "source": [
    "# graphical visualisation of data\n",
    "fig,ax = plt.subplots(4,2, figsize=(20,30))\n",
    "\n",
    "sns.countplot(x=df.type, ax=ax[0][0]).set_title(\"Type\")\n",
    "sns.violinplot(x=df.isFraud, y=df[\"amount\"], ax=ax[0][1])\n",
    "sns.violinplot(x=df.isFraud, y=df[\"oldbalanceOrg\"], ax=ax[1][0])\n",
    "sns.violinplot(x=df.isFraud, y=df[\"newbalanceOrig\"], ax=ax[1][1])\n",
    "sns.violinplot(x=df.isFraud, y=df[\"oldbalanceDest\"], ax=ax[2][0])\n",
    "sns.violinplot(x=df.isFraud, y=df[\"newbalanceDest\"], ax=ax[2][1])\n",
    "sns.violinplot(x=df.isFraud, y=df[\"isFlaggedFraud\"], ax=ax[3][0])\n",
    "\n",
    "# first graph shows the count per transaction type\n",
    "# all the other graph shows the relation between the \"isFraud\" column and various other columns\n"
   ]
  },
  {
   "cell_type": "markdown",
   "id": "a2c00192",
   "metadata": {},
   "source": [
    "\"oldbalanceOrg\" :- initial balance before the transaction\n",
    "\n",
    "\"newbalanceOrig\" :- new balance after the transaction\n",
    "\n",
    "here we are not actually interested in old and new balance\n",
    "we whant to know how the balance is changing i.e. if new balance is more than old one or less\n",
    "\n",
    "so will create another list variable and store 0 if new balance is less or 1 if new balance is more\n"
   ]
  },
  {
   "cell_type": "code",
   "execution_count": 10,
   "id": "e0ad3944",
   "metadata": {},
   "outputs": [
    {
     "name": "stderr",
     "output_type": "stream",
     "text": [
      "100%|████████████████████████████████████████████████████████████████████| 6362620/6362620 [00:33<00:00, 188142.27it/s]\n"
     ]
    }
   ],
   "source": [
    "\n",
    "old_balance = df[\"oldbalanceOrg\"]\n",
    "new_balance = df[\"newbalanceOrig\"]\n",
    "bal_change=[]\n",
    "\n",
    "for i in tqdm(range(len(old_balance))):\n",
    "    diff = new_balance[i]-old_balance[i]\n",
    "    \n",
    "    if diff>0:\n",
    "        bal_change.append(0)\n",
    "    else:\n",
    "        bal_change.append(1)"
   ]
  },
  {
   "cell_type": "markdown",
   "id": "52fee693",
   "metadata": {},
   "source": [
    "oldbalanceDest - initial balance recipient before the transaction. Note that there is not information for customers that start with M (Merchants).\n",
    "\n",
    "newbalanceDest - new balance recipient after the transaction. Note that there is not information for customers that start with M (Merchants).\n",
    "\n",
    "here also will repeat the above process but here will also record the change in newbalanceDest and oldbalanceDestt"
   ]
  },
  {
   "cell_type": "code",
   "execution_count": 11,
   "id": "799e7f19",
   "metadata": {},
   "outputs": [
    {
     "name": "stderr",
     "output_type": "stream",
     "text": [
      "100%|████████████████████████████████████████████████████████████████████| 6362620/6362620 [00:36<00:00, 176042.27it/s]\n"
     ]
    }
   ],
   "source": [
    "old_dest = df[\"oldbalanceDest\"]\n",
    "new_dest = df[\"newbalanceDest\"]\n",
    "dest_change=[]\n",
    "dest_bal=[]\n",
    "for i in tqdm(range(len(old_dest))):\n",
    "    diff = new_dest[i]-old_dest[i]\n",
    "    \n",
    "    if diff>0:\n",
    "        dest_change.append(0)\n",
    "        dest_bal.append(abs(diff))\n",
    "    else:\n",
    "        dest_change.append(1)\n",
    "        dest_bal.append(abs(diff))"
   ]
  },
  {
   "cell_type": "code",
   "execution_count": 12,
   "id": "5a27bb6a",
   "metadata": {},
   "outputs": [],
   "source": [
    "# add above columns to dataframe\n",
    "df[\"bal_change\"]=bal_change\n",
    "df[\"destination\"]=dest_bal\n",
    "df[\"dest_change\"]=dest_change"
   ]
  },
  {
   "cell_type": "code",
   "execution_count": 13,
   "id": "ba1c8a79",
   "metadata": {},
   "outputs": [],
   "source": [
    "# drop the unnecessary columns\n",
    "df.drop([\"oldbalanceOrg\",\"newbalanceOrig\",\"oldbalanceDest\",\"newbalanceDest\"],axis=1,inplace=True)"
   ]
  },
  {
   "cell_type": "code",
   "execution_count": 14,
   "id": "c879a661",
   "metadata": {},
   "outputs": [
    {
     "data": {
      "text/html": [
       "<div>\n",
       "<style scoped>\n",
       "    .dataframe tbody tr th:only-of-type {\n",
       "        vertical-align: middle;\n",
       "    }\n",
       "\n",
       "    .dataframe tbody tr th {\n",
       "        vertical-align: top;\n",
       "    }\n",
       "\n",
       "    .dataframe thead th {\n",
       "        text-align: right;\n",
       "    }\n",
       "</style>\n",
       "<table border=\"1\" class=\"dataframe\">\n",
       "  <thead>\n",
       "    <tr style=\"text-align: right;\">\n",
       "      <th></th>\n",
       "      <th>step</th>\n",
       "      <th>type</th>\n",
       "      <th>amount</th>\n",
       "      <th>nameOrig</th>\n",
       "      <th>nameDest</th>\n",
       "      <th>isFraud</th>\n",
       "      <th>isFlaggedFraud</th>\n",
       "      <th>bal_change</th>\n",
       "      <th>destination</th>\n",
       "      <th>dest_change</th>\n",
       "    </tr>\n",
       "  </thead>\n",
       "  <tbody>\n",
       "    <tr>\n",
       "      <th>4771673</th>\n",
       "      <td>335</td>\n",
       "      <td>PAYMENT</td>\n",
       "      <td>1628.90</td>\n",
       "      <td>C1392224553</td>\n",
       "      <td>M1176377959</td>\n",
       "      <td>0</td>\n",
       "      <td>0</td>\n",
       "      <td>1</td>\n",
       "      <td>0.00</td>\n",
       "      <td>1</td>\n",
       "    </tr>\n",
       "    <tr>\n",
       "      <th>3964096</th>\n",
       "      <td>297</td>\n",
       "      <td>CASH_OUT</td>\n",
       "      <td>221294.52</td>\n",
       "      <td>C1806521440</td>\n",
       "      <td>C791346528</td>\n",
       "      <td>0</td>\n",
       "      <td>0</td>\n",
       "      <td>1</td>\n",
       "      <td>221294.52</td>\n",
       "      <td>0</td>\n",
       "    </tr>\n",
       "    <tr>\n",
       "      <th>1858973</th>\n",
       "      <td>164</td>\n",
       "      <td>PAYMENT</td>\n",
       "      <td>21839.74</td>\n",
       "      <td>C18968728</td>\n",
       "      <td>M191240970</td>\n",
       "      <td>0</td>\n",
       "      <td>0</td>\n",
       "      <td>1</td>\n",
       "      <td>0.00</td>\n",
       "      <td>1</td>\n",
       "    </tr>\n",
       "    <tr>\n",
       "      <th>5110263</th>\n",
       "      <td>355</td>\n",
       "      <td>TRANSFER</td>\n",
       "      <td>232513.38</td>\n",
       "      <td>C583407914</td>\n",
       "      <td>C407922892</td>\n",
       "      <td>0</td>\n",
       "      <td>0</td>\n",
       "      <td>1</td>\n",
       "      <td>355602.13</td>\n",
       "      <td>0</td>\n",
       "    </tr>\n",
       "    <tr>\n",
       "      <th>3678221</th>\n",
       "      <td>276</td>\n",
       "      <td>CASH_OUT</td>\n",
       "      <td>130306.32</td>\n",
       "      <td>C1022683786</td>\n",
       "      <td>C423113173</td>\n",
       "      <td>0</td>\n",
       "      <td>0</td>\n",
       "      <td>1</td>\n",
       "      <td>130306.31</td>\n",
       "      <td>0</td>\n",
       "    </tr>\n",
       "  </tbody>\n",
       "</table>\n",
       "</div>"
      ],
      "text/plain": [
       "         step      type     amount     nameOrig     nameDest  isFraud  \\\n",
       "4771673   335   PAYMENT    1628.90  C1392224553  M1176377959        0   \n",
       "3964096   297  CASH_OUT  221294.52  C1806521440   C791346528        0   \n",
       "1858973   164   PAYMENT   21839.74    C18968728   M191240970        0   \n",
       "5110263   355  TRANSFER  232513.38   C583407914   C407922892        0   \n",
       "3678221   276  CASH_OUT  130306.32  C1022683786   C423113173        0   \n",
       "\n",
       "         isFlaggedFraud  bal_change  destination  dest_change  \n",
       "4771673               0           1         0.00            1  \n",
       "3964096               0           1    221294.52            0  \n",
       "1858973               0           1         0.00            1  \n",
       "5110263               0           1    355602.13            0  \n",
       "3678221               0           1    130306.31            0  "
      ]
     },
     "execution_count": 14,
     "metadata": {},
     "output_type": "execute_result"
    }
   ],
   "source": [
    "df.sample(5)"
   ]
  },
  {
   "cell_type": "code",
   "execution_count": 17,
   "id": "3df8838b",
   "metadata": {},
   "outputs": [
    {
     "name": "stdout",
     "output_type": "stream",
     "text": [
      "0          0\n",
      "1          0\n",
      "2          1\n",
      "3          1\n",
      "4          0\n",
      "          ..\n",
      "6362615    1\n",
      "6362616    1\n",
      "6362617    1\n",
      "6362618    1\n",
      "6362619    1\n",
      "Name: isFraud, Length: 6362620, dtype: int64\n"
     ]
    },
    {
     "data": {
      "text/html": [
       "<div>\n",
       "<style scoped>\n",
       "    .dataframe tbody tr th:only-of-type {\n",
       "        vertical-align: middle;\n",
       "    }\n",
       "\n",
       "    .dataframe tbody tr th {\n",
       "        vertical-align: top;\n",
       "    }\n",
       "\n",
       "    .dataframe thead th {\n",
       "        text-align: right;\n",
       "    }\n",
       "</style>\n",
       "<table border=\"1\" class=\"dataframe\">\n",
       "  <thead>\n",
       "    <tr style=\"text-align: right;\">\n",
       "      <th></th>\n",
       "      <th>step</th>\n",
       "      <th>type</th>\n",
       "      <th>amount</th>\n",
       "      <th>nameOrig</th>\n",
       "      <th>nameDest</th>\n",
       "      <th>isFlaggedFraud</th>\n",
       "      <th>bal_change</th>\n",
       "      <th>destination</th>\n",
       "      <th>dest_change</th>\n",
       "    </tr>\n",
       "  </thead>\n",
       "  <tbody>\n",
       "    <tr>\n",
       "      <th>0</th>\n",
       "      <td>1</td>\n",
       "      <td>PAYMENT</td>\n",
       "      <td>9839.64</td>\n",
       "      <td>C1231006815</td>\n",
       "      <td>M1979787155</td>\n",
       "      <td>0</td>\n",
       "      <td>1</td>\n",
       "      <td>0.00</td>\n",
       "      <td>1</td>\n",
       "    </tr>\n",
       "    <tr>\n",
       "      <th>1</th>\n",
       "      <td>1</td>\n",
       "      <td>PAYMENT</td>\n",
       "      <td>1864.28</td>\n",
       "      <td>C1666544295</td>\n",
       "      <td>M2044282225</td>\n",
       "      <td>0</td>\n",
       "      <td>1</td>\n",
       "      <td>0.00</td>\n",
       "      <td>1</td>\n",
       "    </tr>\n",
       "    <tr>\n",
       "      <th>2</th>\n",
       "      <td>1</td>\n",
       "      <td>TRANSFER</td>\n",
       "      <td>181.00</td>\n",
       "      <td>C1305486145</td>\n",
       "      <td>C553264065</td>\n",
       "      <td>0</td>\n",
       "      <td>1</td>\n",
       "      <td>0.00</td>\n",
       "      <td>1</td>\n",
       "    </tr>\n",
       "    <tr>\n",
       "      <th>3</th>\n",
       "      <td>1</td>\n",
       "      <td>CASH_OUT</td>\n",
       "      <td>181.00</td>\n",
       "      <td>C840083671</td>\n",
       "      <td>C38997010</td>\n",
       "      <td>0</td>\n",
       "      <td>1</td>\n",
       "      <td>21182.00</td>\n",
       "      <td>1</td>\n",
       "    </tr>\n",
       "    <tr>\n",
       "      <th>4</th>\n",
       "      <td>1</td>\n",
       "      <td>PAYMENT</td>\n",
       "      <td>11668.14</td>\n",
       "      <td>C2048537720</td>\n",
       "      <td>M1230701703</td>\n",
       "      <td>0</td>\n",
       "      <td>1</td>\n",
       "      <td>0.00</td>\n",
       "      <td>1</td>\n",
       "    </tr>\n",
       "    <tr>\n",
       "      <th>...</th>\n",
       "      <td>...</td>\n",
       "      <td>...</td>\n",
       "      <td>...</td>\n",
       "      <td>...</td>\n",
       "      <td>...</td>\n",
       "      <td>...</td>\n",
       "      <td>...</td>\n",
       "      <td>...</td>\n",
       "      <td>...</td>\n",
       "    </tr>\n",
       "    <tr>\n",
       "      <th>6362615</th>\n",
       "      <td>743</td>\n",
       "      <td>CASH_OUT</td>\n",
       "      <td>339682.13</td>\n",
       "      <td>C786484425</td>\n",
       "      <td>C776919290</td>\n",
       "      <td>0</td>\n",
       "      <td>1</td>\n",
       "      <td>339682.13</td>\n",
       "      <td>0</td>\n",
       "    </tr>\n",
       "    <tr>\n",
       "      <th>6362616</th>\n",
       "      <td>743</td>\n",
       "      <td>TRANSFER</td>\n",
       "      <td>6311409.28</td>\n",
       "      <td>C1529008245</td>\n",
       "      <td>C1881841831</td>\n",
       "      <td>0</td>\n",
       "      <td>1</td>\n",
       "      <td>0.00</td>\n",
       "      <td>1</td>\n",
       "    </tr>\n",
       "    <tr>\n",
       "      <th>6362617</th>\n",
       "      <td>743</td>\n",
       "      <td>CASH_OUT</td>\n",
       "      <td>6311409.28</td>\n",
       "      <td>C1162922333</td>\n",
       "      <td>C1365125890</td>\n",
       "      <td>0</td>\n",
       "      <td>1</td>\n",
       "      <td>6311409.27</td>\n",
       "      <td>0</td>\n",
       "    </tr>\n",
       "    <tr>\n",
       "      <th>6362618</th>\n",
       "      <td>743</td>\n",
       "      <td>TRANSFER</td>\n",
       "      <td>850002.52</td>\n",
       "      <td>C1685995037</td>\n",
       "      <td>C2080388513</td>\n",
       "      <td>0</td>\n",
       "      <td>1</td>\n",
       "      <td>0.00</td>\n",
       "      <td>1</td>\n",
       "    </tr>\n",
       "    <tr>\n",
       "      <th>6362619</th>\n",
       "      <td>743</td>\n",
       "      <td>CASH_OUT</td>\n",
       "      <td>850002.52</td>\n",
       "      <td>C1280323807</td>\n",
       "      <td>C873221189</td>\n",
       "      <td>0</td>\n",
       "      <td>1</td>\n",
       "      <td>850002.52</td>\n",
       "      <td>0</td>\n",
       "    </tr>\n",
       "  </tbody>\n",
       "</table>\n",
       "<p>6362620 rows × 9 columns</p>\n",
       "</div>"
      ],
      "text/plain": [
       "         step      type      amount     nameOrig     nameDest  isFlaggedFraud  \\\n",
       "0           1   PAYMENT     9839.64  C1231006815  M1979787155               0   \n",
       "1           1   PAYMENT     1864.28  C1666544295  M2044282225               0   \n",
       "2           1  TRANSFER      181.00  C1305486145   C553264065               0   \n",
       "3           1  CASH_OUT      181.00   C840083671    C38997010               0   \n",
       "4           1   PAYMENT    11668.14  C2048537720  M1230701703               0   \n",
       "...       ...       ...         ...          ...          ...             ...   \n",
       "6362615   743  CASH_OUT   339682.13   C786484425   C776919290               0   \n",
       "6362616   743  TRANSFER  6311409.28  C1529008245  C1881841831               0   \n",
       "6362617   743  CASH_OUT  6311409.28  C1162922333  C1365125890               0   \n",
       "6362618   743  TRANSFER   850002.52  C1685995037  C2080388513               0   \n",
       "6362619   743  CASH_OUT   850002.52  C1280323807   C873221189               0   \n",
       "\n",
       "         bal_change  destination  dest_change  \n",
       "0                 1         0.00            1  \n",
       "1                 1         0.00            1  \n",
       "2                 1         0.00            1  \n",
       "3                 1     21182.00            1  \n",
       "4                 1         0.00            1  \n",
       "...             ...          ...          ...  \n",
       "6362615           1    339682.13            0  \n",
       "6362616           1         0.00            1  \n",
       "6362617           1   6311409.27            0  \n",
       "6362618           1         0.00            1  \n",
       "6362619           1    850002.52            0  \n",
       "\n",
       "[6362620 rows x 9 columns]"
      ]
     },
     "execution_count": 17,
     "metadata": {},
     "output_type": "execute_result"
    }
   ],
   "source": [
    "# seperate the target variable and independent variable\n",
    "y = df[\"isFraud\"]\n",
    "print(y)\n",
    "x = df.drop(\"isFraud\", axis=1)\n",
    "x"
   ]
  },
  {
   "cell_type": "code",
   "execution_count": 18,
   "id": "7d73295c",
   "metadata": {},
   "outputs": [
    {
     "name": "stdout",
     "output_type": "stream",
     "text": [
      "8213\n",
      "6354407\n"
     ]
    }
   ],
   "source": [
    "fraud=np.sum(y==1)\n",
    "not_fraud=np.sum(y==0)\n",
    "print(fraud)\n",
    "print(not_fraud)\n",
    "\n",
    "# as we can see here our data set is imbalance \n",
    "# there are too less fraud observations\n",
    "# to deal with this will try XGB model as it can work well on imbalance data sets "
   ]
  },
  {
   "cell_type": "code",
   "execution_count": 19,
   "id": "c8748436",
   "metadata": {},
   "outputs": [],
   "source": [
    "# split the data into train and test\n",
    "x_train,x_test,y_train,y_test=train_test_split(x,y,test_size=0.20,random_state=42)"
   ]
  },
  {
   "cell_type": "code",
   "execution_count": 20,
   "id": "a958b7c2",
   "metadata": {},
   "outputs": [
    {
     "name": "stdout",
     "output_type": "stream",
     "text": [
      "(5090096, 9)\n",
      "(1272524, 9)\n",
      "(5090096,)\n",
      "(1272524,)\n"
     ]
    }
   ],
   "source": [
    "print(x_train.shape)\n",
    "print(x_test.shape)\n",
    "print(y_train.shape)\n",
    "print(y_test.shape)"
   ]
  },
  {
   "cell_type": "code",
   "execution_count": 22,
   "id": "b90397f3",
   "metadata": {},
   "outputs": [
    {
     "data": {
      "text/plain": [
       "array([0, 0, 3, ..., 1, 1, 1])"
      ]
     },
     "execution_count": 22,
     "metadata": {},
     "output_type": "execute_result"
    }
   ],
   "source": [
    "# convert categorical data to numeric data\n",
    "le = preprocessing.LabelEncoder()\n",
    "le.fit(df[\"type\"])\n",
    "train_type = le.transform(x_train[\"type\"])\n",
    "test_type = le.transform(x_test[\"type\"])\n",
    "train_type"
   ]
  },
  {
   "cell_type": "code",
   "execution_count": 24,
   "id": "19213ba6",
   "metadata": {},
   "outputs": [
    {
     "data": {
      "text/plain": [
       "array([4449199, 5813773, 5870502, ..., 1903639, 4311664, 6235529])"
      ]
     },
     "execution_count": 24,
     "metadata": {},
     "output_type": "execute_result"
    }
   ],
   "source": [
    "le2 = preprocessing.LabelEncoder()\n",
    "le2.fit(df[\"nameOrig\"])\n",
    "train_nameOrig = le2.transform(x_train[\"nameOrig\"])\n",
    "test_nameOrig = le2.transform(x_test[\"nameOrig\"])\n",
    "train_nameOrig"
   ]
  },
  {
   "cell_type": "code",
   "execution_count": 25,
   "id": "6fb253bf",
   "metadata": {},
   "outputs": [
    {
     "data": {
      "text/plain": [
       "array([ 289167,  204382, 1346491, ...,   35205,  284813,   88856])"
      ]
     },
     "execution_count": 25,
     "metadata": {},
     "output_type": "execute_result"
    }
   ],
   "source": [
    "le3 = preprocessing.LabelEncoder()\n",
    "le3.fit(df[\"nameDest\"])\n",
    "train_nameDest = le3.transform(x_train[\"nameDest\"])\n",
    "test_nameDest = le3.transform(x_test[\"nameDest\"])\n",
    "train_nameDest"
   ]
  },
  {
   "cell_type": "code",
   "execution_count": 26,
   "id": "f6d36b45",
   "metadata": {},
   "outputs": [],
   "source": [
    "x_train.drop([\"type\",\"nameOrig\",\"nameDest\"],axis=1,inplace=True)"
   ]
  },
  {
   "cell_type": "code",
   "execution_count": 27,
   "id": "410c0ec5",
   "metadata": {},
   "outputs": [],
   "source": [
    "x_train[\"type\"]=train_type\n",
    "x_train[\"nameOrig\"]=train_nameOrig\n",
    "x_train[\"nameDest\"]=train_nameDest"
   ]
  },
  {
   "cell_type": "code",
   "execution_count": 28,
   "id": "da79998d",
   "metadata": {},
   "outputs": [
    {
     "data": {
      "text/html": [
       "<div>\n",
       "<style scoped>\n",
       "    .dataframe tbody tr th:only-of-type {\n",
       "        vertical-align: middle;\n",
       "    }\n",
       "\n",
       "    .dataframe tbody tr th {\n",
       "        vertical-align: top;\n",
       "    }\n",
       "\n",
       "    .dataframe thead th {\n",
       "        text-align: right;\n",
       "    }\n",
       "</style>\n",
       "<table border=\"1\" class=\"dataframe\">\n",
       "  <thead>\n",
       "    <tr style=\"text-align: right;\">\n",
       "      <th></th>\n",
       "      <th>step</th>\n",
       "      <th>amount</th>\n",
       "      <th>isFlaggedFraud</th>\n",
       "      <th>bal_change</th>\n",
       "      <th>destination</th>\n",
       "      <th>dest_change</th>\n",
       "      <th>type</th>\n",
       "      <th>nameOrig</th>\n",
       "      <th>nameDest</th>\n",
       "    </tr>\n",
       "  </thead>\n",
       "  <tbody>\n",
       "    <tr>\n",
       "      <th>6271196</th>\n",
       "      <td>619</td>\n",
       "      <td>386385.08</td>\n",
       "      <td>0</td>\n",
       "      <td>0</td>\n",
       "      <td>386385.08</td>\n",
       "      <td>1</td>\n",
       "      <td>0</td>\n",
       "      <td>4449199</td>\n",
       "      <td>289167</td>\n",
       "    </tr>\n",
       "    <tr>\n",
       "      <th>1888243</th>\n",
       "      <td>164</td>\n",
       "      <td>212458.78</td>\n",
       "      <td>0</td>\n",
       "      <td>0</td>\n",
       "      <td>212458.78</td>\n",
       "      <td>1</td>\n",
       "      <td>0</td>\n",
       "      <td>5813773</td>\n",
       "      <td>204382</td>\n",
       "    </tr>\n",
       "    <tr>\n",
       "      <th>5549957</th>\n",
       "      <td>382</td>\n",
       "      <td>19967.60</td>\n",
       "      <td>0</td>\n",
       "      <td>1</td>\n",
       "      <td>0.00</td>\n",
       "      <td>1</td>\n",
       "      <td>3</td>\n",
       "      <td>5870502</td>\n",
       "      <td>1346491</td>\n",
       "    </tr>\n",
       "    <tr>\n",
       "      <th>2025342</th>\n",
       "      <td>180</td>\n",
       "      <td>527616.51</td>\n",
       "      <td>0</td>\n",
       "      <td>1</td>\n",
       "      <td>527616.51</td>\n",
       "      <td>0</td>\n",
       "      <td>1</td>\n",
       "      <td>5095916</td>\n",
       "      <td>446948</td>\n",
       "    </tr>\n",
       "    <tr>\n",
       "      <th>682342</th>\n",
       "      <td>36</td>\n",
       "      <td>206067.85</td>\n",
       "      <td>0</td>\n",
       "      <td>1</td>\n",
       "      <td>206067.84</td>\n",
       "      <td>0</td>\n",
       "      <td>4</td>\n",
       "      <td>5557736</td>\n",
       "      <td>338417</td>\n",
       "    </tr>\n",
       "  </tbody>\n",
       "</table>\n",
       "</div>"
      ],
      "text/plain": [
       "         step     amount  isFlaggedFraud  bal_change  destination  \\\n",
       "6271196   619  386385.08               0           0    386385.08   \n",
       "1888243   164  212458.78               0           0    212458.78   \n",
       "5549957   382   19967.60               0           1         0.00   \n",
       "2025342   180  527616.51               0           1    527616.51   \n",
       "682342     36  206067.85               0           1    206067.84   \n",
       "\n",
       "         dest_change  type  nameOrig  nameDest  \n",
       "6271196            1     0   4449199    289167  \n",
       "1888243            1     0   5813773    204382  \n",
       "5549957            1     3   5870502   1346491  \n",
       "2025342            0     1   5095916    446948  \n",
       "682342             0     4   5557736    338417  "
      ]
     },
     "execution_count": 28,
     "metadata": {},
     "output_type": "execute_result"
    }
   ],
   "source": [
    "x_train.head(5)"
   ]
  },
  {
   "cell_type": "code",
   "execution_count": 29,
   "id": "45884c3b",
   "metadata": {},
   "outputs": [],
   "source": [
    "# drop the column with object type values\n",
    "x_test.drop([\"type\",\"nameOrig\",\"nameDest\"],axis=1,inplace=True)"
   ]
  },
  {
   "cell_type": "code",
   "execution_count": 30,
   "id": "209e384c",
   "metadata": {},
   "outputs": [],
   "source": [
    "# concate newly converted lists to the test data\n",
    "x_test[\"type\"]=test_type\n",
    "x_test[\"nameOrig\"]=test_nameOrig\n",
    "x_test[\"nameDest\"]=test_nameDest"
   ]
  },
  {
   "cell_type": "code",
   "execution_count": 31,
   "id": "3a02bb20",
   "metadata": {},
   "outputs": [
    {
     "data": {
      "text/html": [
       "<div>\n",
       "<style scoped>\n",
       "    .dataframe tbody tr th:only-of-type {\n",
       "        vertical-align: middle;\n",
       "    }\n",
       "\n",
       "    .dataframe tbody tr th {\n",
       "        vertical-align: top;\n",
       "    }\n",
       "\n",
       "    .dataframe thead th {\n",
       "        text-align: right;\n",
       "    }\n",
       "</style>\n",
       "<table border=\"1\" class=\"dataframe\">\n",
       "  <thead>\n",
       "    <tr style=\"text-align: right;\">\n",
       "      <th></th>\n",
       "      <th>step</th>\n",
       "      <th>amount</th>\n",
       "      <th>isFlaggedFraud</th>\n",
       "      <th>bal_change</th>\n",
       "      <th>destination</th>\n",
       "      <th>dest_change</th>\n",
       "      <th>type</th>\n",
       "      <th>nameOrig</th>\n",
       "      <th>nameDest</th>\n",
       "    </tr>\n",
       "  </thead>\n",
       "  <tbody>\n",
       "    <tr>\n",
       "      <th>3737323</th>\n",
       "      <td>278</td>\n",
       "      <td>330218.42</td>\n",
       "      <td>0</td>\n",
       "      <td>0</td>\n",
       "      <td>330218.42</td>\n",
       "      <td>1</td>\n",
       "      <td>0</td>\n",
       "      <td>5144186</td>\n",
       "      <td>523341</td>\n",
       "    </tr>\n",
       "    <tr>\n",
       "      <th>264914</th>\n",
       "      <td>15</td>\n",
       "      <td>11647.08</td>\n",
       "      <td>0</td>\n",
       "      <td>1</td>\n",
       "      <td>0.00</td>\n",
       "      <td>1</td>\n",
       "      <td>3</td>\n",
       "      <td>868156</td>\n",
       "      <td>1849210</td>\n",
       "    </tr>\n",
       "    <tr>\n",
       "      <th>85647</th>\n",
       "      <td>10</td>\n",
       "      <td>152264.21</td>\n",
       "      <td>0</td>\n",
       "      <td>0</td>\n",
       "      <td>152264.21</td>\n",
       "      <td>1</td>\n",
       "      <td>0</td>\n",
       "      <td>2453021</td>\n",
       "      <td>179836</td>\n",
       "    </tr>\n",
       "    <tr>\n",
       "      <th>5899326</th>\n",
       "      <td>403</td>\n",
       "      <td>1551760.63</td>\n",
       "      <td>0</td>\n",
       "      <td>1</td>\n",
       "      <td>1551760.63</td>\n",
       "      <td>0</td>\n",
       "      <td>4</td>\n",
       "      <td>4162339</td>\n",
       "      <td>167013</td>\n",
       "    </tr>\n",
       "    <tr>\n",
       "      <th>2544263</th>\n",
       "      <td>206</td>\n",
       "      <td>78172.30</td>\n",
       "      <td>0</td>\n",
       "      <td>0</td>\n",
       "      <td>78172.30</td>\n",
       "      <td>1</td>\n",
       "      <td>0</td>\n",
       "      <td>5740614</td>\n",
       "      <td>27202</td>\n",
       "    </tr>\n",
       "  </tbody>\n",
       "</table>\n",
       "</div>"
      ],
      "text/plain": [
       "         step      amount  isFlaggedFraud  bal_change  destination  \\\n",
       "3737323   278   330218.42               0           0    330218.42   \n",
       "264914     15    11647.08               0           1         0.00   \n",
       "85647      10   152264.21               0           0    152264.21   \n",
       "5899326   403  1551760.63               0           1   1551760.63   \n",
       "2544263   206    78172.30               0           0     78172.30   \n",
       "\n",
       "         dest_change  type  nameOrig  nameDest  \n",
       "3737323            1     0   5144186    523341  \n",
       "264914             1     3    868156   1849210  \n",
       "85647              1     0   2453021    179836  \n",
       "5899326            0     4   4162339    167013  \n",
       "2544263            1     0   5740614     27202  "
      ]
     },
     "execution_count": 31,
     "metadata": {},
     "output_type": "execute_result"
    }
   ],
   "source": [
    "x_test.head(5)"
   ]
  },
  {
   "cell_type": "code",
   "execution_count": 40,
   "id": "2c64e8d4",
   "metadata": {},
   "outputs": [],
   "source": [
    "# XGB model\n",
    "xgb_model = xgb.XGBClassifier()\n",
    "\n",
    "xgb_model.fit(x_train,y_train)\n",
    "\n",
    "y_pred1 = xgb_model.predict(x_train)\n",
    "accuracy1 = accuracy_score(y_train, y_pred1)\n",
    "\n",
    "y_pred2 = xgb_model.predict(x_test)\n",
    "accuracy2 = accuracy_score(y_test, y_pred2)"
   ]
  },
  {
   "cell_type": "code",
   "execution_count": 41,
   "id": "f443244c",
   "metadata": {
    "scrolled": true
   },
   "outputs": [
    {
     "name": "stdout",
     "output_type": "stream",
     "text": [
      "train accuracy :  0.9996544269499043\n",
      "test accuracy :  0.9996117951409954\n"
     ]
    }
   ],
   "source": [
    "print(\"train accuracy : \",accuracy1)\n",
    "print(\"test accuracy : \",accuracy2)"
   ]
  },
  {
   "cell_type": "code",
   "execution_count": 43,
   "id": "d9b9303c",
   "metadata": {},
   "outputs": [
    {
     "data": {
      "text/plain": [
       "array([[1270867,      37],\n",
       "       [    457,    1163]], dtype=int64)"
      ]
     },
     "execution_count": 43,
     "metadata": {},
     "output_type": "execute_result"
    }
   ],
   "source": [
    "confusion_matrix(y_test,y_pred)"
   ]
  },
  {
   "cell_type": "code",
   "execution_count": 44,
   "id": "a590db17",
   "metadata": {},
   "outputs": [
    {
     "name": "stdout",
     "output_type": "stream",
     "text": [
      "              precision    recall  f1-score   support\n",
      "\n",
      "           0       1.00      1.00      1.00   5083503\n",
      "           1       0.99      0.74      0.85      6593\n",
      "\n",
      "    accuracy                           1.00   5090096\n",
      "   macro avg       0.99      0.87      0.92   5090096\n",
      "weighted avg       1.00      1.00      1.00   5090096\n",
      "\n",
      "              precision    recall  f1-score   support\n",
      "\n",
      "           0       1.00      1.00      1.00   1270904\n",
      "           1       0.97      0.72      0.82      1620\n",
      "\n",
      "    accuracy                           1.00   1272524\n",
      "   macro avg       0.98      0.86      0.91   1272524\n",
      "weighted avg       1.00      1.00      1.00   1272524\n",
      "\n"
     ]
    }
   ],
   "source": [
    "print(classification_report(y_train, y_pred1))\n",
    "print(classification_report(y_test, y_pred2))"
   ]
  },
  {
   "cell_type": "code",
   "execution_count": 46,
   "id": "c742c49b",
   "metadata": {},
   "outputs": [
    {
     "data": {
      "text/plain": [
       "RandomForestClassifier()"
      ]
     },
     "execution_count": 46,
     "metadata": {},
     "output_type": "execute_result"
    }
   ],
   "source": [
    "# random forest classifier\n",
    "clf = RandomForestClassifier(n_estimators=100)\n",
    "\n",
    "clf.fit(x_train, y_train)"
   ]
  },
  {
   "cell_type": "code",
   "execution_count": 49,
   "id": "78666775",
   "metadata": {},
   "outputs": [],
   "source": [
    "y_pred_r = clf.predict(x_test)\n",
    "\n",
    "accuracy = accuracy_score(y_test, y_pred_r)"
   ]
  },
  {
   "cell_type": "code",
   "execution_count": 50,
   "id": "53eb456b",
   "metadata": {},
   "outputs": [
    {
     "data": {
      "text/plain": [
       "0.9995701456318309"
      ]
     },
     "execution_count": 50,
     "metadata": {},
     "output_type": "execute_result"
    }
   ],
   "source": [
    "accuracy"
   ]
  },
  {
   "cell_type": "code",
   "execution_count": 51,
   "id": "f876f9b5",
   "metadata": {},
   "outputs": [
    {
     "data": {
      "text/plain": [
       "array([[1270865,      39],\n",
       "       [    508,    1112]], dtype=int64)"
      ]
     },
     "execution_count": 51,
     "metadata": {},
     "output_type": "execute_result"
    }
   ],
   "source": [
    "confusion_matrix(y_test,y_pred_r)"
   ]
  },
  {
   "cell_type": "code",
   "execution_count": 52,
   "id": "83ab5002",
   "metadata": {
    "scrolled": true
   },
   "outputs": [
    {
     "name": "stdout",
     "output_type": "stream",
     "text": [
      "              precision    recall  f1-score   support\n",
      "\n",
      "           0       1.00      1.00      1.00   1270904\n",
      "           1       0.97      0.69      0.80      1620\n",
      "\n",
      "    accuracy                           1.00   1272524\n",
      "   macro avg       0.98      0.84      0.90   1272524\n",
      "weighted avg       1.00      1.00      1.00   1272524\n",
      "\n"
     ]
    }
   ],
   "source": [
    "print(classification_report(y_test, y_pred_r))"
   ]
  },
  {
   "cell_type": "code",
   "execution_count": null,
   "id": "2f414b6e",
   "metadata": {},
   "outputs": [],
   "source": []
  }
 ],
 "metadata": {
  "kernelspec": {
   "display_name": "Python 3",
   "language": "python",
   "name": "python3"
  },
  "language_info": {
   "codemirror_mode": {
    "name": "ipython",
    "version": 3
   },
   "file_extension": ".py",
   "mimetype": "text/x-python",
   "name": "python",
   "nbconvert_exporter": "python",
   "pygments_lexer": "ipython3",
   "version": "3.8.8"
  }
 },
 "nbformat": 4,
 "nbformat_minor": 5
}
